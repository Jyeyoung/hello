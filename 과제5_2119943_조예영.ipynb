{
  "nbformat": 4,
  "nbformat_minor": 0,
  "metadata": {
    "colab": {
      "provenance": [],
      "authorship_tag": "ABX9TyMkP9N7szjudiQqdN5ZCe0b",
      "include_colab_link": true
    },
    "kernelspec": {
      "name": "python3",
      "display_name": "Python 3"
    },
    "language_info": {
      "name": "python"
    }
  },
  "cells": [
    {
      "cell_type": "markdown",
      "metadata": {
        "id": "view-in-github",
        "colab_type": "text"
      },
      "source": [
        "<a href=\"https://colab.research.google.com/github/Jyeyoung/hello/blob/main/%EA%B3%BC%EC%A0%9C5_2119943_%EC%A1%B0%EC%98%88%EC%98%81.ipynb\" target=\"_parent\"><img src=\"https://colab.research.google.com/assets/colab-badge.svg\" alt=\"Open In Colab\"/></a>"
      ]
    },
    {
      "cell_type": "code",
      "execution_count": 1,
      "metadata": {
        "id": "EEsgKsr2C4po"
      },
      "outputs": [],
      "source": [
        "import random\n",
        "import time\n",
        "import sys\n",
        "import matplotlib.pyplot as plt"
      ]
    },
    {
      "cell_type": "code",
      "source": [
        "##선택정렬(재귀적)\n",
        "def selectionSortRec(A, n):             # 길이가 n인 A리스트 정렬 함수\n",
        "    k = theLargest4Rec(A, n)            # 가장 큰 원소의 인덱스 값을 k에 저장\n",
        "    A[k], A[n-1] = A[n-1], A[k]         # 가장 큰 원소인 A[k]와 마지막 수 A[n-1]의 위치를 바꿈\n",
        "    if n>2:                             # 2개가 남았을 때 중단\n",
        "        selectionSortRec(A, n-1)        # 마지막 원소를 제외하고 자기 자신을 호출\n",
        "\n",
        "def theLargest4Rec(A, last:int) -> int: # 리스트에서 가장 큰 수의 인덱스 값 리턴\n",
        "    largest = 0                         # largest 값 초기화\n",
        "    for i in range(last):               # A[0] ~ A[n-1]까지 원소 비교\n",
        "        if A[i] > A[largest]:\n",
        "            largest = i                 #더 큰 원소의 인덱스 값을 largest에 저장\n",
        "    return largest                      #largest값 리턴\n",
        "\n",
        "##선택 정렬 확인\n",
        "A = [12,10,9,1,6,2,7]\n",
        "print('A리스트 :', A)\n",
        "selectionSortRec(A, len(A))\n",
        "print('선택 정렬된 A리스트 :', A)\n",
        "\n",
        "#선택 정렬 Time\n",
        "listLength = 300                                           # 길이가 300인 리스트\n",
        "sys.setrecursionlimit(listLength*100)                      # 재귀 제한 늘리기\n",
        "\n",
        "start = time.time()\n",
        "for i in range(10000):                                     # 10,000번 반복\n",
        "    A = []                                                 # 빈 리스트 A\n",
        "    for value in range(0,listLength):\n",
        "        A.append(random.randint(0,99))                     # 0 ~ 99까지의 숫자를 랜덤으로 추가\n",
        "    selectionSortRec(A, len(A))                            # 선택정렬\n",
        "end = time.time()\n",
        "selectionTime = (end - start)/10000                        # 선택 정렬 평균 시간\n",
        "print('SelectionSort Processing Time:', selectionTime)\n"
      ],
      "metadata": {
        "colab": {
          "base_uri": "https://localhost:8080/"
        },
        "id": "nOoQJPYxDAzv",
        "outputId": "6d3c103a-6efb-4a15-ddeb-5e995d9f375b"
      },
      "execution_count": 9,
      "outputs": [
        {
          "output_type": "stream",
          "name": "stdout",
          "text": [
            "A리스트 : [12, 10, 9, 1, 6, 2, 7]\n",
            "선택 정렬된 A리스트 : [1, 2, 6, 7, 9, 10, 12]\n",
            "SelectionSort Processing Time: 0.004589687848091125\n"
          ]
        }
      ]
    },
    {
      "cell_type": "code",
      "source": [
        "##버블정렬\n",
        "def bubbleSort(A, n):                   # 길이가 n인 A리스트 정렬 함수\n",
        "    for i in range(n-1):                # n-1번 비교\n",
        "        if A[i] > A[i+1]:               # A[i] 와 A[i+1] 비교, A[i]가 더 클 경우\n",
        "            A[i], A[i+1] = A[i+1], A[i] # A[i] 와 A[i+1]의 위치를 바꿈\n",
        "    if n > 2:                           # 2개 남았을 때 중단\n",
        "        bubbleSort(A, n-1)              # 마지막 원소를 제외하고 자기 자신을 호출\n",
        "\n",
        "##버블 정렬 확인\n",
        "A = [12,10,9,1,6,2,7]\n",
        "print('A리스트 :', A)\n",
        "bubbleSort(A, len(A))\n",
        "print('버블 정렬된 A리스트 :', A)\n",
        "\n",
        "#버블 정렬 Time\n",
        "listLength = 300                                           # 길이가 300인 리스트\n",
        "sys.setrecursionlimit(listLength*100)                      # 재귀 제한 늘리기\n",
        "\n",
        "start = time.time()\n",
        "for i in range(10000):                                     # 10,000번 반복\n",
        "    A = []                                                 # 빈 리스트 A\n",
        "    for value in range(0,listLength):\n",
        "        A.append(random.randint(0,99))                     # 0 ~ 99까지의 숫자를 랜덤으로 추가\n",
        "    bubbleSort(A, len(A))                                  # 버블 정렬\n",
        "end = time.time()\n",
        "bubbleTime = (end - start)/10000                           # 버블 정렬 평균 시간\n",
        "print('BubbleSort Processing Time:', bubbleTime)\n"
      ],
      "metadata": {
        "colab": {
          "base_uri": "https://localhost:8080/"
        },
        "id": "QhpOvMlMDH8o",
        "outputId": "441d039e-9c8f-4758-9f80-e4470b540d46"
      },
      "execution_count": 10,
      "outputs": [
        {
          "output_type": "stream",
          "name": "stdout",
          "text": [
            "A리스트 : [12, 10, 9, 1, 6, 2, 7]\n",
            "버블 정렬된 A리스트 : [1, 2, 6, 7, 9, 10, 12]\n",
            "BubbleSort Processing Time: 0.009289832878112792\n"
          ]
        }
      ]
    },
    {
      "cell_type": "code",
      "source": [
        "##삽입정렬\n",
        "def insertionSortRec(A, start, end):    # A 리스트의 start(시작) ~ end(끝) 정렬 함수\n",
        "    value = A[start]                    # value에 정렬한 첫번쨰 원소 A[start] 저장\n",
        "    loc = start                         # loc에 인덱스 숫자 저장 (위치)\n",
        "    while loc > 0 and A[loc-1] > value: # 정렬된 A[0] ~ A[loc-1] 리스트에 A[loc] 삽입 (loc이 0이 아니고 A[loc-1]이 value보다 큰 경우)\n",
        "        A[loc] = A[loc-1]               # A[loc]에 A[loc-1]저장\n",
        "        loc -= 1                        # loc 인덱스 앞으로 한칸 이동\n",
        "    A[loc] = value                      # 이동한 위치(A[loc])에 value 저장\n",
        "    if start + 1 < end:\n",
        "        insertionSortRec(A, start +1, end) # 정렬된 A[0] ~ A[start]를 제외하고 A[start+1] ~ A[end]의 범위로 자신을 호출\n",
        "\n",
        "##삽입 정렬 확인\n",
        "A = [12,10,9,1,6,2,7]\n",
        "print('A리스트 :', A)\n",
        "insertionSortRec(A,0,len(A))\n",
        "print('삽입 정렬된 A리스트 :', A)\n",
        "\n",
        "#삽입 정렬 Time\n",
        "listLength = 300                                           # 길이가 300인 리스트\n",
        "sys.setrecursionlimit(listLength*100)                      # 재귀 제한 늘리기\n",
        "\n",
        "start = time.time()\n",
        "for i in range(10000):                                     # 10,000번 반복\n",
        "    A = []                                                 # 빈 리스트 A\n",
        "    for value in range(0,listLength):\n",
        "        A.append(random.randint(0,99))                     # 0 ~ 99까지의 숫자를 랜덤으로 추가\n",
        "    insertionSortRec(A,0,len(A))                           # 삽입 정렬\n",
        "end = time.time()\n",
        "insertionTime = (end - start)/10000                        # 삽입 정렬 평균 시간\n",
        "print('InsertionSort Processing Time:', insertionTime)\n"
      ],
      "metadata": {
        "colab": {
          "base_uri": "https://localhost:8080/"
        },
        "id": "omrlVMwuDIDJ",
        "outputId": "a3790b7b-39f4-4d82-b993-9c323f659a66"
      },
      "execution_count": 11,
      "outputs": [
        {
          "output_type": "stream",
          "name": "stdout",
          "text": [
            "A리스트 : [12, 10, 9, 1, 6, 2, 7]\n",
            "삽입 정렬된 A리스트 : [1, 2, 6, 7, 9, 10, 12]\n",
            "InsertionSort Processing Time: 0.004988200974464416\n"
          ]
        }
      ]
    },
    {
      "cell_type": "code",
      "source": [
        "##병합 정렬\n",
        "def mergeSortFast(A, p:int, r:int):     # A 리스트의 p(시작) ~ r(끝) 정렬 함수\n",
        "    if p < r:                           # p가 r보다 작을 때까지\n",
        "        q = (p+r)//2                    # q에 p와 r의 중간 인덱스 값 저장\n",
        "        mergeSortFast(A, p, q)          # 앞쪽 리스트 자기 호출\n",
        "        mergeSortFast(A, q+1, r)        # 뒤쪽 리스트 자기 호출\n",
        "        mergeFast(A, p, q, r)           # 앞쪽 리스트와 뒤쪽 리스트 병합\n",
        "\n",
        "def mergeFast(A, p:int,q:int, r:int):   # A 리스트의 p(시작) ~ r(끝), q(중간 값)\n",
        "    i = p; j = q+1; t =0                # i = 앞쪽 리스트의 시작 인덱스, j =  뒤쪽 리스트의 시작 인덱스, t = B리스트의 시작 인덱스\n",
        "    B = A[p:r+1]                        # B 리스트에 정렬할 A 리스트 복사\n",
        "    while i <= q and j <= r:            # 앞 쪽 i번째 인덱스 <= 앞 쪽 마지막 인덱스, 뒤 쪽 j번째 인덱스 <= 뒤 쪽 마지막 인덱스\n",
        "        if A[i] <= A[j]:                # 앞 쪽 i번째 원소가 뒤 쪽 j번째 원소보다 작거나 같을 때\n",
        "            B[t] = A[i]; t += 1; i += 1 # B 리스트의 t번째에 앞 쪽 i번째 원소 저장/ i, t 인덱스 +1\n",
        "        else:                           # 앞 쪽 i번째 원소가 뒤 쪽 j번째 원소보다 클 때\n",
        "            B[t] = A[j]; t += 1; j += 1 # B 리스트의 t번째에 앞 쪽 i번째 원소 저장/ j, t 인덱스 +1\n",
        "    while i <= q:                       # 앞 쪽 리스트에 원소가 남았을 때\n",
        "        B[t] = A[i]; t += 1; i += 1     # B 리스트의 t번째에 앞 쪽 i번째 원소 저장/ i, t 인덱스 +1\n",
        "    while j <= r:                       # 뒤 쪽 리스트에 원소가 남았을 때\n",
        "        B[t] = A[j]; t += 1; j += 1     # B 리스트의 t번째에 앞 쪽 i번째 원소 저장/ j, t 인덱스 +1\n",
        "    A[p:r+1] = B[:t]                    # A리스트에 B리스트 복사\n",
        "\n",
        "##병합 정렬 확인\n",
        "A = [12,10,9,1,6,2,7]\n",
        "print('A리스트 :', A)\n",
        "mergeSortFast(A, 0, len(A)-1)\n",
        "print('병합 정렬된 A리스트 :', A)\n",
        "\n",
        "#병합 정렬 Time\n",
        "listLength = 300                                           # 길이가 300인 리스트\n",
        "sys.setrecursionlimit(listLength*100)                      # 재귀 제한 늘리기\n",
        "\n",
        "start = time.time()\n",
        "for i in range(10000):                                     # 10,000번 반복\n",
        "    A = [random.randint(0, 99) for _ in range(listLength)] # 0 ~ 99까지의 숫자를 랜덤으로 A 리스트에 추가\n",
        "    mergeSortFast(A, 0, len(A) - 1)                        # 병합 정렬\n",
        "end = time.time()\n",
        "mergeTime = (end - start)/10000\n",
        "print('MergeSort Processing Time:', mergeTime)             # 병합 정렬 평균 시간\n"
      ],
      "metadata": {
        "colab": {
          "base_uri": "https://localhost:8080/"
        },
        "id": "leBA2AI4DIGp",
        "outputId": "0ca1b493-841b-47a3-aefd-68a6723d9ad1"
      },
      "execution_count": 12,
      "outputs": [
        {
          "output_type": "stream",
          "name": "stdout",
          "text": [
            "A리스트 : [12, 10, 9, 1, 6, 2, 7]\n",
            "병합 정렬된 A리스트 : [1, 2, 6, 7, 9, 10, 12]\n",
            "MergeSort Processing Time: 0.00119941303730011\n"
          ]
        }
      ]
    },
    {
      "cell_type": "code",
      "source": [
        "##퀵정렬\n",
        "def quickSortFast(A, start, end):   # A 리스트의 start(시작) ~ end(끝) 정렬 함수\n",
        "    if start >= end: return         # 정렬이 끝나면 종료\n",
        "    pivot = start                   # 첫번째 요소를 기준 요소로 저장\n",
        "    left, right = start+1, end\n",
        "\n",
        "    while left <= right:\n",
        "        while left <= end and A[left] <= A[pivot]:    # left 인덱스가 길이를 초과하지 않고, left 요소가 기준 요소보다 작은 경우\n",
        "            left += 1                                 # left 인덱스 오른쪽으로 한 칸 이동\n",
        "        while right > start and A[right] >= A[pivot]: # left 인덱스가 길이를 초과하지 않고, right 요소가 기준 요소보다 큰 경우\n",
        "            right -= 1                                # right 인덱스 왼쪽으로 한 칸 이동\n",
        "        if left > right:                              # left 인덱스와 right 인덱스가 교차한 경우\n",
        "            A[right], A[pivot] = A[pivot], A[right]   # 기준 요소와 right 요소 교환\n",
        "        else:                                         # left 인덱스와 right 인덱스가 교차하지 않은 경우\n",
        "            A[left], A[right] = A[right], A[left]     # left 요소와 right 요소 교환\n",
        "\n",
        "    quickSortFast(A, start, right-1)                  # 왼쪽 부분 퀵 정렬\n",
        "    quickSortFast(A, right+1, end)                    # 오른쪽 부분 퀵 정렬\n",
        "\n",
        "#퀵정렬 확인\n",
        "A = [12,10,9,1,6,2,7]\n",
        "print('A리스트 :', A)\n",
        "quickSortFast(A, 0, len(A)-1)\n",
        "print('퀵 정렬된 A리스트 :', A)\n",
        "\n",
        "#퀵 정렬 Time\n",
        "listLength = 300                                           # 길이가 300인 리스트\n",
        "sys.setrecursionlimit(listLength*100)                      # 재귀 제한 늘리기\n",
        "\n",
        "start = time.time()\n",
        "for i in range(10000):                                     # 10,000번 반복\n",
        "    A = []                                                 # 빈 리스트 A\n",
        "    for value in range(0,listLength):\n",
        "        A.append(random.randint(0,99))                     # 0 ~ 99까지의 숫자를 랜덤으로 추가\n",
        "    quickSortFast(A, 0, len(A)-1)                          # 퀵 정렬\n",
        "end = time.time()\n",
        "quickTime = (end - start)/10000                            # 퀵 정렬 평균 시간\n",
        "print('QuickSort Processing Time:', quickTime)\n"
      ],
      "metadata": {
        "colab": {
          "base_uri": "https://localhost:8080/"
        },
        "id": "TDXR8LZiDIJq",
        "outputId": "552a9416-e85d-468e-8472-018f03310727"
      },
      "execution_count": 30,
      "outputs": [
        {
          "output_type": "stream",
          "name": "stdout",
          "text": [
            "A리스트 : [12, 10, 9, 1, 6, 2, 7]\n",
            "퀵 정렬된 A리스트 : [1, 2, 6, 7, 9, 10, 12]\n",
            "QuickSort Processing Time: 0.0008676418542861938\n"
          ]
        }
      ]
    },
    {
      "cell_type": "code",
      "source": [
        "##힙정렬\n",
        "def heapSort(A):                                 # A 리스트 정렬하는 함수\n",
        "    buildHeap(A)                                 # A 리스트로 힙 만들기\n",
        "    for last in range(len(A)-1, 0, -1):          # A 리스트의 길이만큼 반복\n",
        "        A[last], A[0] = A[0], A[last]            # A[last](마지막 요소)와 A[0](가장 큰 요소) 교환\n",
        "        percolateDown(A, 0, last-1)              # A[last] 스며 내리기\n",
        "\n",
        "def buildHeap(A):                                # 힙 생성 함수\n",
        "    for i in range((len(A)-2) // 2, -1, -1):\n",
        "        percolateDown(A, i, len(A)-1)\n",
        "\n",
        "def percolateDown(A, k:int, end:int):            # 스며 내리기 함수\n",
        "    child = 2*k +1                               # 왼쪽 자식노드\n",
        "    right = 2*k +2                               # 오른쪽 자식노드\n",
        "    if child <= end:                             # 자식노드가 존재할 때\n",
        "        if right <= end and A[child] < A[right]: # 오른쪽 자식노드가 존재하고 오른쪽 자식노드가 왼쪽 자식노드보다 클 때\n",
        "            child = right                        # child에 오른쪽 자식노드 저장\n",
        "        if A[k] < A[child]:                      # 부모노드가 자식노드보다 작을 경우\n",
        "            A[k], A[child] = A[child], A[k]      # 부모노드와 자식노드의 요소 교환\n",
        "            percolateDown(A, child, end)         # 스며 내리기(재귀)\n",
        "\n",
        "#힙정렬 확인\n",
        "A = [12,10,9,1,6,2,7]\n",
        "print('A리스트 :', A)\n",
        "heapSort(A)\n",
        "print('힙 정렬된 A리스트 :', A)\n",
        "\n",
        "#힙 정렬 Time\n",
        "listLength = 300                                           # 길이가 300인 리스트\n",
        "sys.setrecursionlimit(listLength*100)                      # 재귀 제한 늘리기\n",
        "\n",
        "start = time.time()\n",
        "for i in range(10000):                                     # 10,000번 반복\n",
        "    A = []                                                 # 빈 리스트 A\n",
        "    for value in range(0, listLength):\n",
        "        A.append(random.randint(0,99))                     # 0 ~ 99까지의 숫자를 랜덤으로 추가\n",
        "    heapSort(A)                                            # 힙 정렬\n",
        "end = time.time()\n",
        "heapTime = (end - start)/10000                             # 힙 정렬 평균 시간\n",
        "print('HeapSort Processing Time:', heapTime)\n"
      ],
      "metadata": {
        "colab": {
          "base_uri": "https://localhost:8080/"
        },
        "id": "Lyclk0ReDIMR",
        "outputId": "3611e18d-6ae6-43d3-df01-6391c420b265"
      },
      "execution_count": 14,
      "outputs": [
        {
          "output_type": "stream",
          "name": "stdout",
          "text": [
            "A리스트 : [12, 10, 9, 1, 6, 2, 7]\n",
            "힙 정렬된 A리스트 : [1, 2, 6, 7, 9, 10, 12]\n",
            "HeapSort Processing Time: 0.0016203600406646727\n"
          ]
        }
      ]
    },
    {
      "cell_type": "code",
      "source": [
        "##쉘정렬\n",
        "def shellSort(A):                                # A 리스트를 셸 정렬하는 함수\n",
        "    H = gapSequence(len(A))                      # 정렬에 사용할 간격 수열을 생성\n",
        "    for h in H:                                  # 간격 수열의 각 간격에 대해 반복\n",
        "        for k in range(h):                       # 각 간격에 대해 서브 리스트를 반복\n",
        "            stepInsertionSort(A, k, h)           # 서브 리스트를 삽입 정렬\n",
        "\n",
        "def stepInsertionSort(A, k:int, h:int):          # 간격 h를 사용한 삽입 정렬 함수\n",
        "    for i in range(k+h, len(A), h):              # k+h부터 리스트 끝까지 h 간격으로 반복\n",
        "        j = i - h                                # 현재 위치의 이전 요소 인덱스\n",
        "        newItem = A[i]                           # 현재 삽입할 요소 저장\n",
        "        while 0 <= j and newItem < A[j]:         # 이전 요소가 현재 요소보다 큰 동안 반복\n",
        "            A[j+h] = A[j]                        # 이전 요소를 뒤로 이동\n",
        "            j -= h                               # 인덱스를 h만큼 감소\n",
        "        A[j+h] = newItem                         # 현재 요소를 올바른 위치에 삽입\n",
        "\n",
        "def gapSequence(n:int):                          # 간격 수열을 생성하는 함수\n",
        "    H = [1]                                      # 초기 간격 리스트 설정\n",
        "    gap = 1                                      # 초기 간격 값 설정\n",
        "    while gap < n/5:                             # 간격이 리스트 길이의 1/5보다 작은 동안 반복\n",
        "        gap = 3 * gap + 1                        # 간격을 3배하고 1을 더하여 갱신\n",
        "        H.append(gap)                            # 새 간격을 리스트에 추가\n",
        "    H.reverse()                                  # 간격 수열을 역순으로 정렬 (큰 값에서 작은 값으로)\n",
        "    return H                                     # 간격 수열을 반환\n",
        "\n",
        "#쉘 정렬 확인\n",
        "A = [12,10,9,1,6,2,7]\n",
        "print('A리스트 :', A)\n",
        "shellSort(A)\n",
        "print('쉘 정렬된 A리스트 :', A)\n",
        "\n",
        "#쉘 정렬 Time\n",
        "listLength = 300                                           # 길이가 300인 리스트\n",
        "sys.setrecursionlimit(listLength*100)                      # 재귀 재한 늘리기\n",
        "\n",
        "start = time.time()\n",
        "for i in range(10000):                                     # 10,000번 반복\n",
        "    A = []                                                 # 빈 리스트 A\n",
        "    for value in range(0, listLength):\n",
        "        A.append(random.randint(0,99))                     # 0 ~ 99까지의 숫자를 랜덤으로 추가\n",
        "    shellSort(A)                                           # 쉘 정렬\n",
        "end = time.time()\n",
        "shellTime = (end - start)/10000                            # 쉘 정렬 평균 시간\n",
        "print('ShellSort Processing Time:', shellTime)\n"
      ],
      "metadata": {
        "colab": {
          "base_uri": "https://localhost:8080/"
        },
        "id": "HY7B_UwwDIOj",
        "outputId": "87a13310-76ea-4257-be1c-37034945941d"
      },
      "execution_count": 27,
      "outputs": [
        {
          "output_type": "stream",
          "name": "stdout",
          "text": [
            "A리스트 : [12, 10, 9, 1, 6, 2, 7]\n",
            "쉘 정렬된 A리스트 : [1, 2, 6, 7, 9, 10, 12]\n",
            "ShellSort Processing Time: 0.0008619250535964965\n"
          ]
        }
      ]
    },
    {
      "cell_type": "code",
      "source": [
        "# 정렬 알고리즘별 누적정렬시간 그래프\n",
        "Time = [selectionTime, bubbleTime, insertionTime, mergeTime, quickTime, heapTime, shellTime]\n",
        "Name = ['selectionTime', 'bubbleTime', 'insertionTime', 'mergeTime', 'quickTime', 'heapTime', 'shellTime']\n",
        "\n",
        "plt.bar(Name, Time)                                         # 막대 그래프\n",
        "plt.title('Cumulative sorting time by sorting algorithm')\n",
        "plt.show()"
      ],
      "metadata": {
        "colab": {
          "base_uri": "https://localhost:8080/",
          "height": 452
        },
        "id": "MqMeVNX7DIQm",
        "outputId": "f9e0e8a9-f8e5-40a6-988e-b76b5e14615b"
      },
      "execution_count": 31,
      "outputs": [
        {
          "output_type": "display_data",
          "data": {
            "text/plain": [
              "<Figure size 640x480 with 1 Axes>"
            ],
            "image/png": "[encoded data removed]"
          },
          "metadata": {}
        }
      ]
    },
    {
      "cell_type": "markdown",
      "source": [
        "<정렬 알고리즘별 누적 정렬 시간 분석>\n",
        "\n",
        " 정렬 알고리즘은 크게 기본정렬과 고급 정렬로 나눌 수 있다.\n",
        "기본 정렬의 경우 선택, 버블, 삽입으로 구성되어 있으며, 고급 정렬은 병합, 퀵, 힙, 셸로 구성되어 있다.\n",
        "\n",
        "기본 정렬의 경우 평균 O(n^2)의 수행 시간이 걸리는 특징이 있다.\n",
        "가장 큰 값을 찾아 마지막에 삽입하는 선택 정렬과 처음부터 한 칸씩 이동하면서 두 원소가 순서대로 되어 있지 않으면 자리를 변경하는 버블 정렬, 정렬된 리스트에서 하나씩 삽입하는 삽입 정렬 중에서 선택 정렬이 가장 빠르고 버블 정렬이 가장 느리다. 그 이유는 버블 정렬과 선택 정렬의 점근적 수행시간이 동일하지만 버블 정렬에서는 두 수간 비교에 따른 원소교환이 일어나기 때문이다. 삽입 정렬의 경우에는 리스트가 거의 정렬된 상태로 입력되면 최선의 경우 O(n)의 수행시간을 가지지만 최악의 경우 O(n^2)의 수행시간을 가지기 때문에 평균적으로 선택 정렬과 비슷한 결과를 도출하게 된다.\n",
        "\n",
        "고급 정렬의 경우 평균 O(nlogn)의 수행 시간이 걸리는 특징이 있다.\n",
        "원소 개수가 1또는 0이 될 때까지 두 부분으로 나누어 순서의 역순으로 크기를 비교해 병합하는 병합 정렬, 기준 원소를 잡아 기준 원소보다 작은 원소와 큰 원소 그룹으로 나누어 다음을 각각 정렬하는 퀵 정렬, 힙 자료 구조를 사용하는 힙 정렬, 특정 간격으로 리스트를 나누어 삽입 정렬하는 쉘 정렬 중에서 쉘, 퀵, 병합, 힙의 순으로 수행 시간이 빠름을 알 수 있다. 쉘과 퀵의 경우에는 수행 시간에 있어서 큰 차이가 없지만 퀵은 최악의 경우 O(n^2), 최선의 경우 O(nlogn)의 수행 시간을 가진다. 병합 정렬의 경우 보조 배열을 사용하는 과정에서 시간이 지체 되고, 힙의 경우 힙을 만들고 비교하고 또 다시 힙을 만드는 과정에서 시간이 지체된다.\n",
        "\n"
      ],
      "metadata": {
        "id": "Mjx1M5hCEjvg"
      }
    },
    {
      "cell_type": "markdown",
      "source": [
        "##기본 정렬 알고리즘\n",
        "1. **선택 정렬 (Selection Sort)**\n",
        "\n",
        " * 시간 복잡도: 평균 O(n^2)\n",
        " * 특징: 가장 작은(혹은 큰) 원소를 찾아 정렬되지 않은 부분의 맨 앞에 위치시킴.\n",
        " * 성능: 기본 정렬 알고리즘 중 가장 빠르며, 안정적이지만 비효율적임.\n",
        "\n",
        "2. **버블 정렬 (Bubble Sort**)\n",
        " * 시간 복잡도: 평균 O(n^2)\n",
        " * 특징: 인접한 두 원소를 비교하여 크기가 순서대로 되어 있지 않으면 교환함.\n",
        " * 성능: 매 단계마다 원소 교환이 빈번하게 발생하기 때문에 기본 정렬 중 가장 느림.\n",
        "\n",
        "3. **삽입 정렬 (Insertion Sort)**\n",
        " * 시간 복잡도: 평균 O(n^2), 최선의 경우 O(n)\n",
        " * 특징: 정렬된 부분에서 알맞은 위치에 원소를 삽입함.\n",
        " * 성능: 거의 정렬된 상태에서는 매우 효율적, 평균적으로 선택 정렬과 비슷한 성능을 보임.\n",
        "\n",
        "##고급 정렬 알고리즘\n",
        "1. **병합 정렬 (Merge Sort)**\n",
        " * 시간 복잡도: 평균 O(n log n)\n",
        " * 특징: 리스트를 절반으로 나누어 각각 정렬한 후 병합함.\n",
        " * 성능: 안정적이며, 추가 메모리를 사용하지만 일관된 성능을 보임.\n",
        "\n",
        "2. **퀵 정렬 (Quick Sort)**\n",
        " * 시간 복잡도: 평균 O(n log n), 최악의 경우 O(n^2)\n",
        " * 특징: 피벗을 기준으로 원소를 두 부분으로 나누어 정렬함.\n",
        " * 성능: 평균적으로 매우 빠르며, 최악의 경우 성능이 저하될 수 있지만 대부분의 경우 우수한 성능을 보임.\n",
        "\n",
        "3. **힙 정렬 (Heap Sort)**\n",
        " * 시간 복잡도: 평균 O(n log n)\n",
        " * 특징: 힙 자료 구조를 사용하여 최대값(혹은 최소값)을 추출\n",
        " * 성능: 안정적이며 추가 메모리가 필요하지 않음. 힙을 만드는 과정에서 시간이 지체될 수 있음.\n",
        "\n",
        "4. **셸 정렬 (Shell Sort)**\n",
        " * 시간 복잡도: 평균 O(n log n) (간격에 따라 다름)\n",
        " * 특징: 특정 간격으로 나눈 부분 리스트를 삽입 정렬\n",
        " * 성능: 실질적으로 가장 빠름.\n",
        "\n",
        "##분석 요약\n",
        "기본 정렬에서 버블 정렬과 선택 정렬의 점근적 수행시간이 동일하지만 버블 정렬에서는 두 수간 비교에 따른 원소교환이 일어나기 때문에 선택 정렬이 더 빠르며, 삽입 정렬의 경우에는 리스트가 거의 정렬된 상태로 입력되면 최선의 경우 O(n)의 수행시간을 가지지만 최악의 경우 O(n^2)의 수행시간을 가지기 때문에 평균적으로 선택 정렬과 비슷한 결과를 도출하게 된다. 고급 정렬에서 쉘과 퀵의 경우에는 수행 시간에 있어서 큰 차이가 없지만 퀵은 최악의 경우 O(n^2), 최선의 경우 O(nlogn)의 수행 시간을 가지기에 쉘이 조금 더 빠르다. 병합 정렬의 경우 보조 배열을 사용하는 과정에서 시간이 지체 되고, 힙의 경우 힙을 만들고 비교하고 또 다시 힙을 만드는 과정에서 시간이 지체되기 때문에 위와 같은 결과가 도출 되었다고 분석할 수 있다.\n"
      ],
      "metadata": {
        "id": "NoIv8UKKOscd"
      }
    }
  ]
}