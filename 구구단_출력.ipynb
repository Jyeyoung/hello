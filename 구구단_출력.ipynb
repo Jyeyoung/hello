{
  "nbformat": 4,
  "nbformat_minor": 0,
  "metadata": {
    "colab": {
      "provenance": [],
      "authorship_tag": "ABX9TyM9aco4E5Pho0pxr2Nj9mR7",
      "include_colab_link": true
    },
    "kernelspec": {
      "name": "python3",
      "display_name": "Python 3"
    },
    "language_info": {
      "name": "python"
    }
  },
  "cells": [
    {
      "cell_type": "markdown",
      "metadata": {
        "id": "view-in-github",
        "colab_type": "text"
      },
      "source": [
        "<a href=\"https://colab.research.google.com/github/Jyeyoung/hello/blob/main/%EA%B5%AC%EA%B5%AC%EB%8B%A8_%EC%B6%9C%EB%A0%A5.ipynb\" target=\"_parent\"><img src=\"https://colab.research.google.com/assets/colab-badge.svg\" alt=\"Open In Colab\"/></a>"
      ]
    },
    {
      "cell_type": "code",
      "execution_count": null,
      "metadata": {
        "id": "fj3rGxgV7Lb3"
      },
      "outputs": [],
      "source": [
        "#구구단1\n",
        "dan = int(input(\"단을 입력하세요: \"))\n",
        "for num in range(1,10):\n",
        "    res = dan*num\n",
        "    print(\"%d X %d = %d\"%(dan, num, res))\n",
        "\n",
        "\n",
        "#구구단2\n",
        "for dan in range(2,10):\n",
        "    for num in range(1,10):\n",
        "        res = dan*num\n",
        "        print(\"%d x %d = %d\"%(dan,num,res))\n",
        "    print(\"\")\n",
        "\n",
        "\n",
        "#구구단3\n",
        "dan1 = int(input(\"첫번째 단을 입력하세요: \"))\n",
        "dan2 = int(input(\"두번째 단을 입력하세요: \"))\n",
        "\n",
        "for dan in range(dan1,dan2+1):\n",
        "    for num in range(1,10):\n",
        "        res = dan*num\n",
        "        print(\"%d x %d = %d\"%(dan,num,res))\n",
        "    print(\"\")"
      ]
    }
  ]
}