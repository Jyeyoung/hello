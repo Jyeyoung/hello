{
  "nbformat": 4,
  "nbformat_minor": 0,
  "metadata": {
    "colab": {
      "provenance": [],
      "collapsed_sections": [
        "yAt235wAQC04",
        "khTGvH0IRru2",
        "gt8W2ww_TU06",
        "1KV9TxSsVvM-",
        "UVP7rpxQZ2jN",
        "XfsutS6SdAvr",
        "tXo_CJYDfARA",
        "95Sx9SQwf9b6"
      ],
      "authorship_tag": "ABX9TyO72T/BWM0dsC2RGwk8nCnw",
      "include_colab_link": true
    },
    "kernelspec": {
      "name": "python3",
      "display_name": "Python 3"
    },
    "language_info": {
      "name": "python"
    }
  },
  "cells": [
    {
      "cell_type": "markdown",
      "metadata": {
        "id": "view-in-github",
        "colab_type": "text"
      },
      "source": [
        "<a href=\"https://colab.research.google.com/github/Jyeyoung/hello/blob/main/%ED%99%95%EB%A5%A0%EB%B0%8F%ED%86%B5%EA%B3%84_04%EC%9E%A5.ipynb\" target=\"_parent\"><img src=\"https://colab.research.google.com/assets/colab-badge.svg\" alt=\"Open In Colab\"/></a>"
      ]
    },
    {
      "cell_type": "markdown",
      "source": [
        "#04장.정규분포와 확률계산"
      ],
      "metadata": {
        "id": "zf_LdnZvVAxS"
      }
    },
    {
      "cell_type": "markdown",
      "source": [
        "##정규분포"
      ],
      "metadata": {
        "id": "yAt235wAQC04"
      }
    },
    {
      "cell_type": "markdown",
      "source": [
        "* 정의 : 연속확률분포 중에서 가장 많이 활용되는 분포\n",
        "* 특징 :\n",
        " * 평균(mu)을 중심으로 좌우대칭, 종 모양(bell shape)의 형태\n",
        " * 평균(mu)과 표준편차(sigma)에 의해 모양 결정(표준편차가 작을수록 뾰족)\n",
        " * 평균 = 중앙값 = 최빈값\n",
        " * 확률밀도함수 f(x)의 속선 아랫부분과 x축 사이의 면적은 항상 1\n",
        " * -00 < X < 00\n"
      ],
      "metadata": {
        "id": "zfSkFd8AVRti"
      }
    },
    {
      "cell_type": "markdown",
      "source": [
        "##정규분포를 파이썬 그래프로 나타내기"
      ],
      "metadata": {
        "id": "khTGvH0IRru2"
      }
    },
    {
      "cell_type": "markdown",
      "source": [
        "####[문제] 평균이 50이고 표준편차가 5인 정규분포그래프를 작성하시오."
      ],
      "metadata": {
        "id": "Hk1g3X-vVWn-"
      }
    },
    {
      "cell_type": "code",
      "source": [
        "import numpy as np\n",
        "from matplotlib import pyplot as plt\n",
        "from scipy.stats import norm\n",
        "\n",
        "mu = 50\n",
        "sigma = 5\n",
        "\n",
        "x = np.arange(mu-30,mu+30,0.1)\n",
        "y = norm.pdf(x,mu,sigma)\n",
        "\n",
        "plt.bar(x,y)\n",
        "plt.xlabel('X')\n",
        "plt.ylabel('f(X)')\n",
        "plt.title('normal distribution(mu = 50, sigma = 5)')\n",
        "plt.show()"
      ],
      "metadata": {
        "colab": {
          "base_uri": "https://localhost:8080/",
          "height": 472
        },
        "id": "PpN1FF21Rsvt",
        "outputId": "348391f0-7ba4-48fc-e1e4-7d64969dc7a5"
      },
      "execution_count": null,
      "outputs": [
        {
          "output_type": "display_data",
          "data": {
            "text/plain": [
              "<Figure size 640x480 with 1 Axes>"
            ],
            "image/png": "[encoded data removed]"
          },
          "metadata": {}
        }
      ]
    },
    {
      "cell_type": "markdown",
      "source": [
        "##정규분포의 표준화"
      ],
      "metadata": {
        "id": "gt8W2ww_TU06"
      }
    },
    {
      "cell_type": "markdown",
      "source": [
        "* 정규분포를 쉽게 다루기 위해 평균과 표준편차가 다른 모든 정규분포의 확률변수 x에 대해 z로 변환하는 것\n",
        "* 표준화된 정규분포의 평균은 0, 표준편차는 1이며, 이를 표준정규분포라 함\n",
        "* 표준화 공식\n",
        " >Z = X - mu / sigma"
      ],
      "metadata": {
        "id": "2o1b2QenVbBf"
      }
    },
    {
      "cell_type": "markdown",
      "source": [
        "####[문제] 어느 학생이 수학은 80점, 영어는 85점을 받았다고 할 때 어느 과목을 더 잘 했다고 볼 수 있는가? 단, 각 과목의 평균과 표준편차는 다음과 같다. 수학점수(mu =60, sigma=10), 영어점수(mu=80, sigma=5)\n"
      ],
      "metadata": {
        "id": "1KV9TxSsVvM-"
      }
    },
    {
      "cell_type": "markdown",
      "source": [
        "#####[풀이] 표준화를 통해 각 과목의 z점수를 비교한다.\n",
        "#####수학 : z = (80 - 60) / 10 = 2\n",
        "#####영어 : z = (85 - 80) / 5 = 1\n",
        "따라서 수학이 영어보다 z점수가 높으므로, 수학을 더 잘봤다고 할 수 있다. 또한 각 과목에서 상위 몇%인지 알기 위해서는 표준정규분포표를 통해 확인할 수 있다."
      ],
      "metadata": {
        "id": "YEx8tWszWcdH"
      }
    },
    {
      "cell_type": "markdown",
      "source": [
        "####+)T점수(T score)\n",
        "* 음수, 소수점을 포함하는 Z점수의 단점을 없애기 위해 z점수를 변환한 표준점수\n",
        "* Z -> T 변환 공식\n",
        " >T = 10Z + 50"
      ],
      "metadata": {
        "id": "WUr9j7VhYvAf"
      }
    },
    {
      "cell_type": "markdown",
      "source": [
        "##표준정규분포의 확률(넓이)구하기\n"
      ],
      "metadata": {
        "id": "UVP7rpxQZ2jN"
      }
    },
    {
      "cell_type": "markdown",
      "source": [
        "#### 0 ~ z까지의 넓이를 나타내는 표준정규분포표\n",
        "1. p(0 <= Z <= 1.28) = p(0 <= Z <= 1.28)\n",
        "2. p(-1.5<= Z <= 0.5) = p(-1.5 <= Z <= 0) + p(0 <= Z <= 0.5) = p(0 <= Z <= 1.5) + p(0 <= Z <= 0.5)\n",
        "3. p(-0.5 <= Z <= 0) = p(0 <= Z <= 0.5)"
      ],
      "metadata": {
        "id": "4scIr-VpaFkP"
      }
    },
    {
      "cell_type": "markdown",
      "source": [
        "#### -00 ~ z까지의 넓이를 나타내는 표준정규분포표\n",
        "1. p(0 <= Z <= 1.28) = p(Z <= 1.28) - 0.5\n",
        "2. p(-1.5<= Z <= 0.5) = p(Z <= 0.5) - p(Z <= -1.5)\n",
        "3. p(-0.5 <= Z <= 0) = 0.5 - p(Z <= -0.5)  "
      ],
      "metadata": {
        "id": "D9MW6PFVcGpz"
      }
    },
    {
      "cell_type": "markdown",
      "source": [
        "##파이썬 함수로 표준정규분포의 확률(넓이) 계산하기\n"
      ],
      "metadata": {
        "id": "XfsutS6SdAvr"
      }
    },
    {
      "cell_type": "markdown",
      "source": [
        "####scipy.stats.norm.cdf(x,m,s)\n",
        "* x : 확률변수\n",
        "* m : 평균\n",
        "* s : 표준편차"
      ],
      "metadata": {
        "id": "GZmUHGbVdvBF"
      }
    },
    {
      "cell_type": "markdown",
      "source": [
        "####[문제] P(-1.5 <= Z <= 0.5)를 구하시오."
      ],
      "metadata": {
        "id": "g2KvdpCGeHgD"
      }
    },
    {
      "cell_type": "code",
      "source": [
        "from scipy.stats import norm\n",
        "\n",
        "mu = 0\n",
        "sigma = 1\n",
        "\n",
        "y1 = norm.cdf(0.5, mu, sigma)\n",
        "y2 = norm.cdf(-1.5, mu, sigma)\n",
        "\n",
        "print('P(-1.5 <= Z <= 0.5) =', y1 - y2)"
      ],
      "metadata": {
        "colab": {
          "base_uri": "https://localhost:8080/"
        },
        "id": "jSFNsbqjdrsU",
        "outputId": "1e498894-65f0-4e34-9aeb-54e7b1ba931b"
      },
      "execution_count": null,
      "outputs": [
        {
          "output_type": "stream",
          "name": "stdout",
          "text": [
            "P(-1.5 <= Z <= 0.5) = 0.624655260005155\n"
          ]
        }
      ]
    },
    {
      "cell_type": "markdown",
      "source": [
        "## 파이썬을 활용해 표준정규분포의 k 구하기(누적분포함수의 역함수)"
      ],
      "metadata": {
        "id": "tXo_CJYDfARA"
      }
    },
    {
      "cell_type": "markdown",
      "source": [
        "####scipy.stats.norm.ppf(q,m,s)\n",
        "* q : percent point\n",
        "* m : 평균\n",
        "* s : 표준편차"
      ],
      "metadata": {
        "id": "99q56szgfZ_g"
      }
    },
    {
      "cell_type": "markdown",
      "source": [
        "####[문제] 표준정규분포의 확률이 0.9일 때 k값을 구하시오."
      ],
      "metadata": {
        "id": "95Sx9SQwf9b6"
      }
    },
    {
      "cell_type": "code",
      "source": [
        "from scipy.stats import norm\n",
        "\n",
        "mu = 0\n",
        "sigma = 1\n",
        "percent_point = 0.9\n",
        "\n",
        "print('P(Z <= k) = 0.9, k =', norm.ppf(percent_point, mu, sigma))"
      ],
      "metadata": {
        "colab": {
          "base_uri": "https://localhost:8080/"
        },
        "id": "U0vGcOKEgPQU",
        "outputId": "bd4f6111-f078-4686-9708-7e51feb01861"
      },
      "execution_count": null,
      "outputs": [
        {
          "output_type": "stream",
          "name": "stdout",
          "text": [
            "P(Z <= k) = 0.9, k = 1.2815515655446004\n"
          ]
        }
      ]
    }
  ]
}