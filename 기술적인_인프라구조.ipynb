{
  "nbformat": 4,
  "nbformat_minor": 0,
  "metadata": {
    "colab": {
      "provenance": [],
      "authorship_tag": "ABX9TyP6t9eKOPMxfyqghrbiYj04",
      "include_colab_link": true
    },
    "kernelspec": {
      "name": "python3",
      "display_name": "Python 3"
    },
    "language_info": {
      "name": "python"
    }
  },
  "cells": [
    {
      "cell_type": "markdown",
      "metadata": {
        "id": "view-in-github",
        "colab_type": "text"
      },
      "source": [
        "<a href=\"https://colab.research.google.com/github/Jyeyoung/hello/blob/main/%EA%B8%B0%EC%88%A0%EC%A0%81%EC%9D%B8_%EC%9D%B8%ED%94%84%EB%9D%BC%EA%B5%AC%EC%A1%B0.ipynb\" target=\"_parent\"><img src=\"https://colab.research.google.com/assets/colab-badge.svg\" alt=\"Open In Colab\"/></a>"
      ]
    },
    {
      "cell_type": "markdown",
      "source": [
        "#1.REAL TIME CHAT SYSTEMS\n",
        "##1) internet Relay Chat\n",
        "* 10년전, 웹브라우저 기반 IRC채팅이 활발해짐\n",
        "* 최근 Salck이 부상중이나 넓은 곳에서 활용되지는 않음\n",
        "* Martrix compatibility은 우리 프로젝트에 필요한 좋은 속성을 확인\n",
        "\n",
        "##2) Matrix compatibility & Matrix Coparison\n",
        "* Matrix compatibility - 시스템이나 소프트웨어의 서로 다른 버전, 플랫폼 또는 구성 요소들이 서로 호환되는지 확인하는 과정\n",
        "\n",
        "* Matrix Coparison - 여러 항목(제품, 소프트웨어 버전, 기능 등)을 속성이나 특징에 따라 비교하는 방법\n",
        "\n",
        "##3) Chat Room과 성장\n",
        "####채널(channels), 스트림(Streams)\n",
        "* 채팅에 속한 인원이 볼 수 있는 공유된 공간\n",
        "\n",
        "####모든 프로젝트는 어떠한 주제에 특정된 공개 공간(Public room)의 집합을 유지함\n",
        "* 새로운 참여자를 위한 엔트리 포인트\n",
        "\n",
        "##4) Nickname, Chatbots\n",
        "####Chat 시스템에서 다루는 이름\n",
        "* Real name 선정할지 안 할지는 자유이다.\n",
        "* 종종 화명에 Flash될 수 있다.\n",
        "* 주요 팀원이나 상대자는 즐겨찾기를 해놓자\n",
        "####Chat Bots\n",
        "* 공통의 질문이 자주 일어난다면 Chatbot 시스템을 세팅하자\n",
        "* 채팅에서 Commit Notifications\n",
        "\n",
        "#2. WIKIS\n",
        "##1) Wikis\n",
        "####개발자와 사용자에게 가장 훌륭한 도구 중의 하나임\n",
        "* 변화를 추적하고\n",
        "* 사용자에게 Credit을 부여하며,\n",
        "* 누군가 수정되었음을 알림\n",
        "* 세계에 즉시적으로 새로운 컨텐츠를 퍼블리싱\n",
        "\n",
        "####개방형, 익명의 Wiki는 절대 만들지 말 것\n",
        "* 만약 그렇게 한다면, 3 밀리초마다 스팸이 생성될 것임\n",
        "\n",
        "##2) Wiki의 종류\n",
        "####DokuWiki와 MediaWiki\n",
        "* DokuWiki를 추천\n",
        "\n",
        "##3) WikiHow\n",
        "####What이 아니라 How(Not 오픈소스)\n",
        "\n",
        "#3. TRANSLATION\n",
        "##1) Internationalization (i18n)과 Localization(i10n)\n",
        "####Internationalisztion\n",
        "* 소프트웨어 소스 코드를 프로그램이 번역되는 형태에 투입하는 과정\n",
        "\n",
        "####Localization\n",
        "* 특정 언어로 실젠 변환을 제공하는 것\n",
        "\n",
        "#4. SOCIAL NETWORKING SERVICES\n",
        "##1) SNS\n",
        "####오픈소스 프로젝트에서는 사람이 아닌 프로젝드로 대우한다\n",
        "####트위터나 유사 마이크로 블로그 사용\n",
        "* @AskLibreOffice\n",
        "* 프로젝트에 대해 공지나 빠른 정보를 안내\n",
        "* 직접적으로 사람(사용자와 개발자)과 소통할 수 있음\n",
        "\n",
        "####다만, 소셜네트워크에 시간 및 관심에 대한 투자는 노력에 대한 충분한 가치가 없음\n",
        "* 프로젝트에 더욱 집중!\n",
        "\n",
        "\n",
        "\n",
        "\n"
      ],
      "metadata": {
        "id": "VZC6x28FIvCB"
      }
    }
  ]
}