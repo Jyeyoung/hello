{
  "nbformat": 4,
  "nbformat_minor": 0,
  "metadata": {
    "colab": {
      "provenance": [],
      "authorship_tag": "ABX9TyPzGkVEjbscVlS5AFxktADj",
      "include_colab_link": true
    },
    "kernelspec": {
      "name": "python3",
      "display_name": "Python 3"
    },
    "language_info": {
      "name": "python"
    }
  },
  "cells": [
    {
      "cell_type": "markdown",
      "metadata": {
        "id": "view-in-github",
        "colab_type": "text"
      },
      "source": [
        "<a href=\"https://colab.research.google.com/github/Jyeyoung/hello/blob/main/%EB%B2%84%EA%B7%B8_%ED%8A%B8%EB%9E%98%ED%82%B9.ipynb\" target=\"_parent\"><img src=\"https://colab.research.google.com/assets/colab-badge.svg\" alt=\"Open In Colab\"/></a>"
      ]
    },
    {
      "cell_type": "markdown",
      "source": [
        "#버그 트래킹(Bug Tracking)\n",
        "###정의\n",
        "* 버그리포트 추적\n",
        "* 새로운 특징을 요청, One-time작업, 자발적인 패치까지 포함\n",
        "\n",
        "###버그 트래커의 다양한 이름\n",
        "* issue tracker, ticker tracker, defect tracker, artifact tracker, request tracker\n",
        "\n",
        "###Ticket= tracker 데이터베이스 내 아이템을 지칭\n",
        "* 버그, 특징에 대한 발견, 진단, 토의, 해결에 대한 진행중인 기록\n",
        "\n",
        "#보편적인 티켓 사이클(CYCLE)\n",
        "1. ticket open\n",
        "2. original filer가 티켓을 파일링(Filing)\n",
        "3. 커멘트 작성, original filer에게 특정 부분에 대한 명확함 요구\n",
        "4. 버그가 재생산(original filer 및 다른 사람들이 진정한 버그림을 증명)\n",
        "5. 버그 진단(원인 식별, Fix에 대한 노력을 추정)\n",
        "6. 해셜을 위한 스케쥴링(고정된 날짜X, 미래의 릴리즈)\n",
        "7. 버그 Fix(작업 완료, patch 적용)\n",
        "8. Ticket closed\n",
        "\n",
        "#Pre-Filtering the Bug Tracker\n",
        "##문제점\n",
        "* 중복된 혹은 유효하지 않은 티켓\n",
        "* 비경험자 혹은 잘못 알림 받은 사용자에 의해 발생\n",
        "##대처법\n",
        "* 첫 페이지에 공지사항 작성\n",
        "* 어떻게 그것이 정말로 버그인지를 설명하는 방법\n",
        "* 어떻게 기존의 보고된 버그를 찾는 방법\n",
        "* 어떨게 새로운 버그에 대해 보고할지에 대한 방법\n",
        "\n",
        "#Best Practices for using github issues\n",
        "1. If You're Just Starting, Go Whith the Defaults\n",
        "2. Encourage Search to Avoid Duplication\n",
        "3. Add Structure to Issue Reporting and Encourage Reporters to Be Specific\n",
        "4. Route Vulnerability Reports Elsewhere\n",
        "5. Use(But DOn't Overuse) Labels\n",
        "6. Mention the Appropriate People\n",
        "7. Choose a WorkFlow to Assign Issue to Developers"
      ],
      "metadata": {
        "id": "H-FA-aWZy-j3"
      }
    }
  ]
}