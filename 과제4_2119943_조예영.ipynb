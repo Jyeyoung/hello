{
  "nbformat": 4,
  "nbformat_minor": 0,
  "metadata": {
    "colab": {
      "provenance": [],
      "include_colab_link": true
    },
    "kernelspec": {
      "name": "python3",
      "display_name": "Python 3"
    },
    "language_info": {
      "name": "python"
    }
  },
  "cells": [
    {
      "cell_type": "markdown",
      "metadata": {
        "id": "view-in-github",
        "colab_type": "text"
      },
      "source": [
        "<a href=\"https://colab.research.google.com/github/Jyeyoung/hello/blob/main/%EA%B3%BC%EC%A0%9C4_2119943_%EC%A1%B0%EC%98%88%EC%98%81.ipynb\" target=\"_parent\"><img src=\"https://colab.research.google.com/assets/colab-badge.svg\" alt=\"Open In Colab\"/></a>"
      ]
    },
    {
      "cell_type": "markdown",
      "source": [
        "# 과제4 - Queue\n",
        "\n",
        "**문제 1. (난이도 下)**  \n",
        "요세푸스 문제는 다음과 같다.  \n",
        "1번부터 N번까지 N명의 사람이 원을 이루면서 앉아있고, 양의 정수 K(K ≤ N)가 주어진다. 이제 순서대로 K번째 사람을 제거한다. 한 사람이 제거되면 남은 사람들로 이루어진 원을 따라 이 과정을 계속해 나간다. 이 과정은 N명의 사람이 모두 제거될 때까지 계속된다. 원에서 사람들이 제거되는 순서를 (N, K)-요세푸스 순열이라고 한다. 예를 들어(7, 3)-요세푸스 순열은 <3, 6, 2, 7, 5, 1, 4>이다.\n",
        "\n",
        "N과 K가 주어진다면 (N, K)-요세푸스 순열을 구하는 프로그램을 작성하시오.\n",
        "\n",
        "  \n",
        "\n",
        "**입력**\n",
        ">첫째 줄에 N과 K가 빈 칸을 사이에 두고 순서대로 주어진다. (1≤K≤N≤1,000)\n",
        "\n",
        "**출력**\n",
        ">예제와 같이 요세푸스 순열을 출력한다.\n",
        "\n",
        "  \n",
        "---\n",
        "\n",
        "\n",
        "*예제 입력1*\n",
        ">7 3\n",
        "  \n",
        "\n",
        "*예제 출력1*\n",
        "><3, 6, 2, 7, 5, 1, 4>"
      ],
      "metadata": {
        "id": "9yluOXcYytZA"
      }
    },
    {
      "cell_type": "code",
      "source": [
        "class ListQueue:\n",
        "\tdef __init__(self):\n",
        "\t\tself.__queue = []\n",
        "\n",
        "\tdef enqueue(self, x):\n",
        "\t\tself.__queue.append(x)\n",
        "\n",
        "\tdef dequeue(self):\n",
        "\t\treturn self.__queue.pop(0) # .pop(0): 리스트의 첫 원소를 삭제한 후 원소 리턴\n",
        "\n",
        "\tdef isEmpty(self) -> bool:\n",
        "\t\treturn (len(self.__queue) == 0);\n",
        "\n",
        "\tdef dequeueAll(self):\n",
        "\t\tself.__queue.clear()\n",
        "\n",
        "\tdef printQueue(self):\n",
        "\t\tprint(\"<\", end = '')\n",
        "\t\tfor i in range(len(self.__queue)):\n",
        "\t\t\tprint(self.__queue[i], end = ' ')\n",
        "\t\tprint(\">\")\n",
        "\n",
        "\n",
        "\n",
        "if __name__==\"__main__\":\n",
        " List = ListQueue()\n",
        " a = ListQueue()\n",
        " N, K = map(int,input('숫자 두개를 입력하세요: ').split())\n",
        " if 1 <= K <= N <= 1000: # 범위 설정\n",
        "    for i in range(N): #큐만들기\n",
        "      List.enqueue(i+1)\n",
        "    while not List.isEmpty():\n",
        "        for i in range(K-1):\n",
        "            List.enqueue(List.dequeue())#K-1개 dequeue 하고 enqueue하기\n",
        "        a.enqueue(List.dequeue()) #K번째 dequeue하고 a에 넣기\n",
        "    List.dequeueAll() #List 정리\n",
        "    a.printQueue() #a 출력\n"
      ],
      "metadata": {
        "id": "Y6sdxfvXzGSY",
        "colab": {
          "base_uri": "https://localhost:8080/"
        },
        "outputId": "9be520a5-3523-4379-ff6f-7a2979da6b61"
      },
      "execution_count": null,
      "outputs": [
        {
          "output_type": "stream",
          "name": "stdout",
          "text": [
            "숫자 두개를 입력하세요: 7 3\n",
            "<3 6 2 7 5 1 4 >\n"
          ]
        }
      ]
    },
    {
      "cell_type": "markdown",
      "source": [
        "# 과제 4 - Priority Queue\n",
        "**문제 2. (난이도 中)**    \n",
        "널리 잘 알려진 자료구조 중 최소 힙이 있다. 최소 힙을 이용하여 다음과 같은 연산을 지원하는 프로그램을 작성하시오.\n",
        "1. 배열에 자연수 x를 넣는다.\n",
        "2. 배열에서 가장 작은 값을 출력하고, 그 값을 배열에서 제거한다.  \n",
        "\n",
        "프로그램은 처음에 비어있는 배열에서 시작하게 된다.\n",
        "\n",
        "**입력**\n",
        ">첫째 줄에 연산의 개수 N(1≤N≤100,000)이 주어진다. 다음 N개의 줄에는 연산에 대한 정보를 나타내는 정수 x가 주어진다. 만약 x가 자연수라면 배열에 x라는 값을 넣는(추가하는) 연산이고, x가 0이라면 배열에서 가장 작은 값을 출력하고 그 값을 배열에서 제거하는 경우이다. x는 2<sup>31</sup>보다 작은 자연수 또는 0이고, 음의 정수는 입력으로 주어지지 않는다.\n",
        "\n",
        "**출력**\n",
        ">입력에서 0이 주어진 횟수만큼 답을 출력한다. 만약 배열이 비어 있는 경우인데 가장 작은 값을 출력하라고 한 경우에는 0을 출력하면 된다.\n",
        "\n",
        "  \n",
        "---\n",
        "\n",
        "\n",
        "*예제 입력1*\n",
        ">9  \n",
        "0  \n",
        "12345678  \n",
        "1  \n",
        "2  \n",
        "0  \n",
        "0  \n",
        "0  \n",
        "0  \n",
        "32\n",
        "  \n",
        "\n",
        "*예제 출력1*\n",
        ">0  \n",
        "1  \n",
        "2  \n",
        "12345678  \n",
        "0"
      ],
      "metadata": {
        "id": "SNpv-z6M2g2E"
      }
    },
    {
      "cell_type": "code",
      "source": [
        "class PriorityQueue :\n",
        "    def __init__( self, capacity = 10 ) :\n",
        "        self.capacity = capacity        # 용량(고정)\n",
        "        self.array = [None] * capacity  # 요소들을 저장할 배열\n",
        "        self.size = 0                   # 후단의 인덱스\n",
        "\n",
        "    def isEmpty( self ) :\n",
        "       return self.size == 0\n",
        "\n",
        "    def isFull( self ) :\n",
        "       return self.size == self.capacity\n",
        "\n",
        "    def enqueue( self, e ):\n",
        "        if not self.isFull():\n",
        "            self.array[self.size] = e\n",
        "            self.size += 1\n",
        "\n",
        "    def findMinIndex( self ): #가장 작은 값 가져오기\n",
        "        if self.isEmpty(): return -1\n",
        "        lowest = 0\n",
        "        for i in range(1, self.size) :\n",
        "            if self.array[i] < self.array[lowest] :\n",
        "                lowest = i\n",
        "        return lowest\n",
        "\n",
        "    def dequeue( self ): #가장 작은 값 빼기\n",
        "        lowest = self.findMinIndex()\n",
        "        if lowest != -1 :\n",
        "            self.size -= 1\n",
        "            self.array[lowest], self.array[self.size] = \\\n",
        "                self.array[self.size], self.array[lowest]\n",
        "            return self.array[self.size]\n",
        "\n",
        "if __name__ == \"__main__\":\n",
        "    q = PriorityQueue()\n",
        "    a = [] #빈 리스트\n",
        "    N = int(input()) #N개의 줄\n",
        "\n",
        "    if 1<= N <= 100000: #N범위 설정\n",
        "        for i in range(N): #N개의 숫자 입력받기\n",
        "            x = int(input())\n",
        "            if x == 0: #x가 0일 때\n",
        "                if q.size == 0:\n",
        "                    a.append(x)\n",
        "                else:\n",
        "                    a.append(q.dequeue()) #a에 넣기\n",
        "            elif 1<= x <= 2**31: #x범위 설정\n",
        "                q.enqueue(x)\n",
        "\n",
        "        print('')\n",
        "\n",
        "        for x in a: #결과 출력\n",
        "            print(x)\n"
      ],
      "metadata": {
        "id": "LdqoGiNa5v-x",
        "colab": {
          "base_uri": "https://localhost:8080/"
        },
        "outputId": "ec54bfdd-fa6c-46ed-b9bc-ed4dc6880a02"
      },
      "execution_count": null,
      "outputs": [
        {
          "output_type": "stream",
          "name": "stdout",
          "text": [
            "9\n",
            "0\n",
            "12345678\n",
            "1\n",
            "2\n",
            "0\n",
            "0\n",
            "0\n",
            "0\n",
            "32\n",
            "\n",
            "0\n",
            "1\n",
            "2\n",
            "12345678\n",
            "0\n"
          ]
        }
      ]
    },
    {
      "cell_type": "markdown",
      "source": [
        "# 과제 4 - Stack\n",
        "**문제 3. (난이도 上)**    \n",
        "4개의 기호 '(', ')', '[', ']'를 이용해서 만들어진 괄호열 중에서 올바른 괄호열이란 다음과 같이 정의된다.\n",
        "1. 한 쌍의 괄호로만 이루어진 '()'와 '[]'는 올바른 괄호열이다.\n",
        "2. 만일 X가 올바른 괄호열이면 '(X)'이나 '[X]'도 모두 올바른 괄호열이 된다.\n",
        "3. X와 Y 모두 올바른 괄호열이라면 이들을 결합한 XY도 올바른 괄호열이 된다.\n",
        "\n",
        "'( ( ) [ [ ] ] )'나 '( ( ) ) [ ] [ ]'는 올바른 괄호열의 예시이지만, '( [ ) ]'나 '( ( ) ( ) [ ]'은 올바르지 않은 괄호열의 예시이다.  \n",
        "어떤 올바른 괄호열 X에 대하여 그 괄호열의 값(괄호값)을 아래와 같이 정의하고 값(X)로 표시해보자.\n",
        "1. '( )'인 괄호열의 값은 2이다.\n",
        "2. '[ ]'인 괄호열의 값은 3이다.\n",
        "3. '(X)'의 괄호값은 2 x 값(X)으로 계산된다.\n",
        "4. '[X]'의 괄호값은 3 x 값(X)으로 계산된다.\n",
        "5. 올바른 괄호열 X와 Y가 결합된 XY의 괄호값은 값(XY)=값(X) + 값(Y)로 계산된다.  \n",
        "\n",
        "예를 들어 '( ( ) [ [ ] ] ) ( [ ] )'의 괄호값을 구해보자. '( ) [ [ ] ]'의 괄호값이 2 x 3 x 3 = 11이므로 '( ( ) [ [ ] ] )'의 괄호값은 2 x 11 = 22이다. 그리고 '( [ ] )'의 값은 2 x 3 = 6이므로 전체 괄호열의 값은 22 + 6 = 28이다.  \n",
        "\n",
        "이때, 입력으로 주어진 괄호열의 괄호값을 구하라.\n",
        "\n",
        "**입력**\n",
        ">첫째 줄에 괄호열을 나타내는 문자열(스트링)이 주어진다. 단 그 길이는 1 이상, 30 이하이다.  \n",
        "이때 입력은 빈칸 없이 '(', ')', '[', ']' 으로 구성된 문자열이다.\n",
        "\n",
        "**출력**\n",
        ">첫째 줄에 그 괄호열의 값을 나타내는 정수를 출력한다. 만일 입력이 올바르지 못한 괄호열이면 반드시 0을 출력한다.\n",
        "\n",
        "  \n",
        "---\n",
        "\n",
        "\n",
        "*예제 입력1*\n",
        ">( ( ) [ [ ] ] ) ( [ ] )\n",
        "\n",
        "*예제 출력1*\n",
        ">28  \n",
        "\n",
        "*예제 입력2*\n",
        ">[ ] [ ] ( ( ] )\n",
        "\n",
        "*예제 출력2*\n",
        ">0"
      ],
      "metadata": {
        "id": "oz1gd2VI6ISw"
      }
    },
    {
      "cell_type": "code",
      "source": [
        "# 여기에 코딩."
      ],
      "metadata": {
        "id": "mxEtxDlK8_qi"
      },
      "execution_count": null,
      "outputs": []
    }
  ]
}