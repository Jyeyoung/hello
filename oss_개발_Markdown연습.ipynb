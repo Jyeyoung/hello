{
  "nbformat": 4,
  "nbformat_minor": 0,
  "metadata": {
    "colab": {
      "provenance": [],
      "authorship_tag": "ABX9TyN1KGhfo7I/w8ZFaZ9wm+dB",
      "include_colab_link": true
    },
    "kernelspec": {
      "name": "python3",
      "display_name": "Python 3"
    },
    "language_info": {
      "name": "python"
    }
  },
  "cells": [
    {
      "cell_type": "markdown",
      "metadata": {
        "id": "view-in-github",
        "colab_type": "text"
      },
      "source": [
        "<a href=\"https://colab.research.google.com/github/Jyeyoung/hello/blob/main/oss_%EA%B0%9C%EB%B0%9C_Markdown%EC%97%B0%EC%8A%B5.ipynb\" target=\"_parent\"><img src=\"https://colab.research.google.com/assets/colab-badge.svg\" alt=\"Open In Colab\"/></a>"
      ]
    },
    {
      "cell_type": "markdown",
      "source": [
        "마크다운 *이탤릭* 어렵지 않아요!\n",
        "마크다운 _이탤릭_ 어렵지 않아요!\n",
        "\n",
        "진정한 개발자는 **깃허브**를 일기처럼 씁니다\n",
        "진정한 개발자는 __깃허브__를 일기처럼 씁니다\n",
        "\n",
        "# Header 1\n",
        "Header 1\n",
        "========\n",
        "## Header 2\n",
        "Header 2\n",
        "--------\n",
        "\n",
        "### Header 3\n",
        "\n",
        "#### Header 4\n",
        "\n",
        "##### Header 5\n",
        "\n",
        "동아대 홈페이지는 [여기](https://www.donga.ac.kr)로\n",
        "\n",
        "my github page is available [here](https://github.com/Jyeyoung)\n",
        "\n",
        "\n",
        "![Img Alt Text](https://search.pstatic.net/common/?src=http%3A%2F%2Fblogfiles.naver.net%2F20160428_11%2Fohminho_1461803883530TEh4n_JPEG%2F%25B1%25B3%25C0%25B0%252C%25B4%25EB%25C7%25D0%252C%25C7%25D0%25B1%25B3%25B5%25BF%25BE%25C6%25B4%25EB%25C7%25D0%25B1%25B3%25B7%25CE%25B0%25ED.jpg&type=ff332_332)\n",
        "\n",
        "\n",
        "\n",
        ">1. “The computer was born to solve problems that did not exist before.” — Bill\n",
        "Gates, Microsoft founder and former CEO, philanthropist\n",
        "\n",
        ">2. “Most of the good programmers do programming not because they expect to get\n",
        "paid or get adulation by the public, but because it is fun to program.” — Linus\n",
        "Torvalds, software engineer, inventor of the Linux operating system\n",
        "\n",
        ">3. “Everybody should learn to program a computer, because it teaches you how to\n",
        "think.” - Steve Jobs, former CEO and creator of Apple\n",
        "\n",
        "\n",
        "1. Ordered list(1,2,3)\n",
        "2. Unordered list(*)\n",
        "\n",
        "\n",
        "\n",
        "\n",
        "\n"
      ],
      "metadata": {
        "id": "I6zgZ-KMaAU0"
      }
    }
  ]
}