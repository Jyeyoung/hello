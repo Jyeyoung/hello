{
  "nbformat": 4,
  "nbformat_minor": 0,
  "metadata": {
    "colab": {
      "provenance": [],
      "toc_visible": true,
      "authorship_tag": "ABX9TyP082VcISj9Kp88qc//MT+U",
      "include_colab_link": true
    },
    "kernelspec": {
      "name": "python3",
      "display_name": "Python 3"
    },
    "language_info": {
      "name": "python"
    }
  },
  "cells": [
    {
      "cell_type": "markdown",
      "metadata": {
        "id": "view-in-github",
        "colab_type": "text"
      },
      "source": [
        "<a href=\"https://colab.research.google.com/github/Jyeyoung/hello/blob/main/%EA%B0%80%EC%9E%A5_%ED%81%B0%EC%88%98%EC%99%80_%EA%B0%80%EC%9E%A5_%EC%9E%91%EC%9D%80_%EC%88%98_%EC%B0%BE%EA%B8%B0.ipynb\" target=\"_parent\"><img src=\"https://colab.research.google.com/assets/colab-badge.svg\" alt=\"Open In Colab\"/></a>"
      ]
    },
    {
      "cell_type": "code",
      "execution_count": null,
      "metadata": {
        "id": "Fb4uPsAV6uJz"
      },
      "outputs": [],
      "source": [
        "##숫자 10개를 입력받아 가장 큰 수를 출력하시오(범위를 모를 때)\n",
        "\n",
        "num = int(input(\"1번째 숫자를 입력하세요: \"))\n",
        "\n",
        "max = num\n",
        "min = num\n",
        "\n",
        "for i in range(2,6):\n",
        "    num = int(input(\"%d 번째 숫자를 입력하세요: \"%(i)))\n",
        "    if max < num :\n",
        "        max = num\n",
        "    if min > num:\n",
        "        min = num\n",
        "\n",
        "print(\"최댓값은 %d 입니다.\"%(max))\n",
        "print(\"최솟값은 %d 입니다.\"%(min))"
      ]
    }
  ]
}